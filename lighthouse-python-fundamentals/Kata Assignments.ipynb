{
 "cells": [
  {
   "cell_type": "code",
   "execution_count": 28,
   "id": "4e594196-2543-453f-9da2-c4511fc67e92",
   "metadata": {},
   "outputs": [
    {
     "name": "stdout",
     "output_type": "stream",
     "text": [
      "11\n",
      "5\n",
      "126\n"
     ]
    }
   ],
   "source": [
    "#Kata Assignment 1\n",
    "def sumLargestNumbers(nums):\n",
    "    \"\"\"Receives a list of numbers and return the sum of the two largest numbers in that array\"\"\"\n",
    "    num1 = max(nums)\n",
    "    nums.remove(max(nums))\n",
    "    num2 = max(nums)\n",
    "    return (num1 + num2)\n",
    "\n",
    "print(sumLargestNumbers([1,10]))\n",
    "print(sumLargestNumbers([1,2,3]))\n",
    "print(sumLargestNumbers([10,4,34,6,92,2]))"
   ]
  },
  {
   "cell_type": "code",
   "execution_count": 31,
   "id": "7fc75fe2-b3d7-4217-a126-089ac0f85572",
   "metadata": {},
   "outputs": [
    {
     "name": "stdout",
     "output_type": "stream",
     "text": [
      "6\n",
      "9\n",
      "144\n",
      "0\n"
     ]
    }
   ],
   "source": [
    "#Kata assignment 2\n",
    "def conditionalSum(nums, condition):\n",
    "    \"\"\"Receives a list of numbers and a condition of odd or even,\n",
    "    adds up the values that match the condition and \n",
    "    returns 0 if no values match\"\"\"\n",
    "    evencount = 0\n",
    "    oddcount = 0\n",
    "    for n in nums:\n",
    "        if (condition == \"even\") and n % 2 == 0:\n",
    "            evencount += n\n",
    "        if (condition == \"odd\") and n % 2 == 1:\n",
    "            oddcount += n\n",
    "    if nums == []:\n",
    "        return 0\n",
    "    elif condition == \"odd\": \n",
    "        return oddcount\n",
    "    else: \n",
    "        return evencount\n",
    "    \n",
    "    \n",
    "print(conditionalSum([1,2,3,4,5], \"even\"))\n",
    "print(conditionalSum([1,2,3,4,5], \"odd\"))\n",
    "print(conditionalSum([13,88,12,44,99], \"even\"))\n",
    "print(conditionalSum([], \"odd\"))\n",
    "    "
   ]
  },
  {
   "cell_type": "code",
   "execution_count": 66,
   "id": "7604793e-a86e-4563-bba8-5c348a97e0a0",
   "metadata": {},
   "outputs": [
    {
     "name": "stdout",
     "output_type": "stream",
     "text": [
      "3\n",
      "5\n",
      "5\n"
     ]
    }
   ],
   "source": [
    "#Kata Assignment 3 \n",
    "def numberOfVowels(data):\n",
    "    \"\"\"Receives a string and returns the number of vowels in that string\"\"\"\n",
    "    vowels = [\"a\", \"e\", \"i\", \"o\", \"u\"] \n",
    "    counter = 0\n",
    "    splitdata = list(data) \n",
    "    splitdata = str(splitdata)\n",
    "    splitdata = splitdata.lower()\n",
    "    for vows in splitdata:\n",
    "        if vows in vowels: \n",
    "            counter += 1 \n",
    "    return counter \n",
    "            \n",
    "print(numberOfVowels(\"orange\"))\n",
    "print(numberOfVowels(\"lighthouse labs\"))\n",
    "print(numberOfVowels(\"aeiou\"))"
   ]
  },
  {
   "cell_type": "code",
   "execution_count": 25,
   "id": "5e285180-3d0f-4dc9-b91e-e4abd4a9eb9f",
   "metadata": {},
   "outputs": [
    {
     "name": "stdout",
     "output_type": "stream",
     "text": [
      "{'name': 'Jeremiah', 'course': 'Data'}\n",
      "{'name': 'Domascus', 'course': 'Web'}\n"
     ]
    }
   ],
   "source": [
    "def instructorWithLongestName(instructors):\n",
    "    stored = -1 \n",
    "    longest_name = \"\"\n",
    "    for i in range(len(instructors)):\n",
    "        if len(instructors[i][\"name\"]) > len(longest_name):\n",
    "            longest_name = (instructors[i][\"name\"])\n",
    "            stored = i \n",
    "    return instructors[stored]\n",
    "    \n",
    "print(instructorWithLongestName([{\"name\": \"Samuel\" , \"course\": \"iOS\"}, \n",
    "{\"name\": \"Ophilia\" , \"course\": \"Web\"},\n",
    "{\"name\": \"Donald\" , \"course\": \"Web\"}]))\n",
    "\n",
    "print(instructorWithLongestName([\n",
    "  {\"name\": \"Matthew\", \"course\": \"Data\"},\n",
    "  {\"name\": \"David\", \"course\": \"iOS\"},\n",
    "  {\"name\": \"Domascus\", \"course\": \"Web\"}\n",
    "]))\n"
   ]
  },
  {
   "cell_type": "code",
   "execution_count": 17,
   "id": "df7c5772-40c2-4bb8-9b32-553d4ec9187b",
   "metadata": {},
   "outputs": [
    {
     "name": "stdout",
     "output_type": "stream",
     "text": [
      "Jeremiah\n",
      "Domascus\n"
     ]
    }
   ],
   "source": [
    "# Kata assignment 4\n",
    "def instructorWithLongestName(instructors):\n",
    "    \"\"\"Receives a list of instructor dictionaries,\n",
    "    and returns the longest name of the instructors, if there are\n",
    "    two instructors with the longest name, return the first one\"\"\"\n",
    "    inames = [l[\"name\"] for l in instructors]\n",
    "    long = max(inames, key = len)\n",
    "    return long\n",
    " \n",
    "print(instructorWithLongestName([{\"name\": \"Samuel\" , \"course\": \"iOS\"}, \n",
    "{\"name\": \"Jeremiah\" , \"course\": \"Data\"},\n",
    "{\"name\": \"Ophilia\" , \"course\": \"Web\"},\n",
    "{\"name\": \"Donald\" , \"course\": \"Web\"}]))\n",
    "\n",
    "print(instructorWithLongestName([\n",
    "  {\"name\": \"Matthew\", \"course\": \"Data\"},\n",
    "  {\"name\": \"David\", \"course\": \"iOS\"},\n",
    "  {\"name\": \"Domascus\", \"course\": \"Web\"}\n",
    "]))\n",
    "\n"
   ]
  },
  {
   "cell_type": "code",
   "execution_count": 168,
   "id": "584483d9-a9b3-4f41-bbed-ce963e2ed168",
   "metadata": {},
   "outputs": [
    {
     "name": "stdout",
     "output_type": "stream",
     "text": [
      "Lighthouse%20Labs\n",
      "Lighthouse%20Labs\n",
      "blue%20is%20greener%20than%20purple%20for%20sure\n"
     ]
    }
   ],
   "source": [
    "#Kata assignment 5\n",
    "def urlEncode(string):\n",
    "    \"\"\"recieves a string of words, and returns that string \n",
    "    with all whitespace characters within the string converted to %20\"\"\"\n",
    "    s = string.split()\n",
    "    s = \"%20\".join(s)\n",
    "    return s\n",
    "            \n",
    "\n",
    "print(urlEncode(\"Lighthouse Labs\"))\n",
    "print(urlEncode(\" Lighthouse Labs \"))\n",
    "print(urlEncode(\"blue is greener than purple for sure\"))"
   ]
  },
  {
   "cell_type": "code",
   "execution_count": 307,
   "id": "8a7d01d4-fc25-4f49-b348-ff66adfe17f9",
   "metadata": {},
   "outputs": [
    {
     "name": "stdout",
     "output_type": "stream",
     "text": [
      "[4, 0]\n",
      "None\n",
      "[3, 1]\n"
     ]
    }
   ],
   "source": [
    "#Kata assignment #6\n",
    "def whereCanIPark(spots, vehicle):\n",
    "    \"\"\"returns coordinates of available parking spots or false if no\n",
    "    spots are available\"\"\"\n",
    "    give = []\n",
    "    if vehicle == \"regular\":\n",
    "        for x in spots:\n",
    "            for y in x:\n",
    "                if y == \"R\":\n",
    "                    return ([(x.index(y)), (spots.index(x))])\n",
    "    if vehicle == \"motorcycle\": \n",
    "        for x in spots:\n",
    "            for y in x:\n",
    "                if y == \"S\" or y == \"R\" or y == \"M\":\n",
    "                    return ([(x.index(y)), (spots.index(x))])\n",
    "    if vehicle == \"small\":\n",
    "        for x in spots:\n",
    "            for y in x:\n",
    "                if y == \"S\" or y == \"R\":\n",
    "                    return ([(x.index(y)), (spots.index(x))])\n",
    "    else: \n",
    "        return False \n",
    "print(whereCanIPark([\n",
    " ['s', 's', 's', 'S', 'R', 'M'],\n",
    " ['s', 'M', 's', 'S', 'r', 'M'], \n",
    " ['s', 'M', 's', 'S', 'r', 'm'], \n",
    " ['S', 'r', 's', 'm', 'r', 'M'],\n",
    " ['S', 'r', 's', 'm', 'r', 'M'], \n",
    " ['S', 'r', 'S', 'M', 'M', 'S'] ] ,  \n",
    "    \"regular\" ))\n",
    "\n",
    "print(whereCanIPark(\n",
    "  [\n",
    "    ['M', 'M', 'M', 'M'],\n",
    "    ['M', 's', 'M', 'M'],\n",
    "    ['M', 'M', 'M', 'M'],\n",
    "    ['M', 'M', 'r', 'M']\n",
    "  ],\n",
    "  'small'\n",
    "))\n",
    "\n",
    "print(whereCanIPark([\n",
    "    ['s', 's', 's', 's', 's', 's'],\n",
    "    ['s', 'm', 's', 'S', 'r', 's'],\n",
    "    ['s', 'm', 's', 'S', 'r', 's'],\n",
    "    ['S', 'r', 's', 'm', 'r', 's'],\n",
    "    ['S', 'r', 's', 'm', 'R', 's'],\n",
    "    ['S', 'r', 'S', 'M', 'm', 'S']\n",
    "  ],\n",
    "  'motorcycle'))"
   ]
  },
  {
   "cell_type": "code",
   "execution_count": 349,
   "id": "5f6a17c6-5bc6-4fb8-831a-cddd0c9c4b73",
   "metadata": {},
   "outputs": [
    {
     "name": "stdout",
     "output_type": "stream",
     "text": [
      "polluted\n",
      "polluted\n",
      "clean\n"
     ]
    }
   ],
   "source": [
    "#Kata assignment 7 \n",
    "def checkAir(samples, threshold):\n",
    "    \"\"\"takes in list of samples either clean or dirty, and a number \n",
    "    representing highest acceptable amount of dirty samples\n",
    "    ex) 0.4 means less than 40% of the samples must be dirty, for the air\n",
    "    to be considered clean\n",
    "    Returns polluted if dirty, and clean if below threshold.\"\"\"\n",
    "    clair = samples.count('clean')\n",
    "    dair = samples.count('dirty')\n",
    "    thresh = dair / (clair + dair) \n",
    "    if thresh < threshold:\n",
    "        return \"clean\"\n",
    "    else:\n",
    "        return \"polluted\"\n",
    "\n",
    "        \n",
    "print(checkAir(\n",
    "  ['clean', 'clean', 'dirty', 'clean', 'dirty', 'clean', 'clean', 'dirty', 'clean', 'dirty'],\n",
    "  0.3\n",
    "))\n",
    "print(checkAir(\n",
    "  ['dirty', 'dirty', 'dirty', 'dirty', 'clean'],\n",
    "  0.25\n",
    "))\n",
    "\n",
    "print(checkAir(\n",
    "  ['clean', 'dirty', 'clean', 'dirty', 'clean', 'dirty', 'clean'],\n",
    "  0.9\n",
    "))"
   ]
  },
  {
   "cell_type": "code",
   "execution_count": 343,
   "id": "fa3e015d-fd46-417e-8542-db10d5945823",
   "metadata": {},
   "outputs": [
    {
     "data": {
      "text/plain": [
       "0.42857142857142855"
      ]
     },
     "execution_count": 343,
     "metadata": {},
     "output_type": "execute_result"
    }
   ],
   "source": [
    "3/7"
   ]
  }
 ],
 "metadata": {
  "kernelspec": {
   "display_name": "Python 3",
   "language": "python",
   "name": "python3"
  },
  "language_info": {
   "codemirror_mode": {
    "name": "ipython",
    "version": 3
   },
   "file_extension": ".py",
   "mimetype": "text/x-python",
   "name": "python",
   "nbconvert_exporter": "python",
   "pygments_lexer": "ipython3",
   "version": "3.8.8"
  }
 },
 "nbformat": 4,
 "nbformat_minor": 5
}
