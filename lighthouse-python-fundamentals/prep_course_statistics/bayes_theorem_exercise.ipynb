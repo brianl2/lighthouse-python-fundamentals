{
 "cells": [
  {
   "cell_type": "markdown",
   "metadata": {
    "ExecuteTime": {
     "end_time": "2020-02-05T17:56:18.818219Z",
     "start_time": "2020-02-05T17:56:18.810698Z"
    }
   },
   "source": [
    "## Exercise 1\n",
    "In Orange County, 51% of the adults are males. (It doesn't take too much advanced\n",
    "mathematics to deduce that the other 49% are females.) One adult is randomly selected\n",
    "for a survey involving credit card usage.\n",
    "\n",
    "- **(a)** Find the probability that the selected person is a male.\n",
    "\n",
    "- **(b)** It is later learned that the selected survey subject was smoking a cigar. Also, 9.5% of males smoke cigars, whereas 1.7% of females smoke cigars (based on data from the Substance Abuse and Mental Health Services Administration). Use this additional information to find the probability that the cigar−smoking respondent is a male\n",
    "\n",
    "Use following notation:\n",
    "M = male <br>\n",
    "F = female <br>\n",
    "C = cigar smoker<br>\n",
    "NC = not a cigar smoker<br>\n"
   ]
  },
  {
   "cell_type": "code",
   "execution_count": 4,
   "metadata": {},
   "outputs": [
    {
     "name": "stdout",
     "output_type": "stream",
     "text": [
      "The probability of the selected survey subject is male is 51.0%\n"
     ]
    }
   ],
   "source": [
    "# Q.A\n",
    "ProbMale= 0.51\n",
    "print(\"The probability that the selected survey subject is male is \" + str(ProbMale*100) + \"%\")"
   ]
  },
  {
   "cell_type": "code",
   "execution_count": 18,
   "metadata": {},
   "outputs": [
    {
     "name": "stdout",
     "output_type": "stream",
     "text": [
      "The probability that the person selected is male is: 50.19%\n",
      "The probability that the person selected is female is: 49.81%\n",
      "The probability that the person selected is a smoker and female: 0.8%\n",
      "The probability that the person selected is a smoker and is male: 4.55%\n",
      "The probability that the person selected is not a smoker and are female is: 49.01%\n",
      "The probability that the person selected is not smoker and are male is: 45.64%\n",
      "the probability that the person is a smoker is: 5.35%\n",
      "The probability that the person is not a smoker is: 94.65%\n"
     ]
    }
   ],
   "source": [
    "#Q.B \n",
    "#find probability that the cigar-smoking respondent is male \n",
    "import numpy as np \n",
    "#Variables: \n",
    "YES_M = 0\n",
    "YES_F = 0\n",
    "YES_C = 0\n",
    "NO_C = 0\n",
    "YES_MS = 0\n",
    "NO_MS = 0\n",
    "YES_FS = 0\n",
    "NO_FS = 0\n",
    "\n",
    "n_runs = 10000\n",
    "for x in range(n_runs):\n",
    "    #male\n",
    "    if np.random.random() < 0.51:\n",
    "        YES_M += 1 \n",
    "        #smoker\n",
    "        if np.random.random() < 0.095:\n",
    "            YES_C += 1 \n",
    "            YES_MS += 1\n",
    "        else:\n",
    "            NO_C += 1 \n",
    "            NO_MS += 1 \n",
    "    else: \n",
    "        YES_F +=1\n",
    "        if np.random.random() < 0.017:\n",
    "            YES_C += 1\n",
    "            YES_FS += 1\n",
    "        else:\n",
    "            NO_C += 1\n",
    "            NO_FS += 1\n",
    "            \n",
    "#Probabilities\n",
    "P_M = ((YES_M / n_runs)*100)\n",
    "P_F = ((YES_F/ n_runs)*100)\n",
    "P_C_F = ((YES_FS/ n_runs)*100)\n",
    "P_C_M = ((YES_MS/ n_runs)*100)\n",
    "P_NC_F = ((NO_FS/ n_runs)*100)\n",
    "P_NC_M = ((NO_MS/ n_runs)*100)\n",
    "P_C = ((YES_C/ n_runs)*100)\n",
    "P_NC = ((NO_C / n_runs)*100)\n",
    "\n",
    "\n",
    "print(f\"The probability that the person selected is male is: {P_M}%\")\n",
    "print(f\"The probability that the person selected is female is: {P_F}%\")\n",
    "print(f\"The probability that the person selected is a smoker and female: {P_C_F}%\")\n",
    "print(f\"The probability that the person selected is a smoker and is male: {P_C_M}%\")\n",
    "print(f\"The probability that the person selected is not a smoker and are female is: {P_NC_F}%\")\n",
    "print(f\"The probability that the person selected is not smoker and are male is: {P_NC_M}%\")\n",
    "print(f\"the probability that the person is a smoker is: {P_C}%\")\n",
    "print(f\"The probability that the person is not a smoker is: {P_NC}%\")\n"
   ]
  },
  {
   "cell_type": "code",
   "execution_count": 20,
   "metadata": {},
   "outputs": [
    {
     "name": "stdout",
     "output_type": "stream",
     "text": [
      "The probability that the cigar-smoking respondent is male is: 0.8504672897196262%\n"
     ]
    }
   ],
   "source": [
    "#find probability that the cigar-smoking respondent is male \n",
    "#P_M_C = P_C_M / (P_C)\n",
    "P_M_C = (P_C_M)/ (P_C)\n",
    "print(f\"The probability that the cigar-smoking respondent is male is: {P_M_C}%\")"
   ]
  },
  {
   "cell_type": "markdown",
   "metadata": {
    "ExecuteTime": {
     "end_time": "2020-02-05T17:56:20.532960Z",
     "start_time": "2020-02-05T17:56:20.525450Z"
    }
   },
   "source": [
    "# Exercise 2\n",
    "\n",
    "A diagnostic test has a probability 0.95 of giving a positive result when applied to a person suffering\n",
    "from a certain disease, and a probability 0.10 of giving a (false) positive when applied to a non-sufferer. It is\n",
    "estimated that 0.5 % of the population are sufferers. Suppose that the test is now administered to a person about\n",
    "whom we have no relevant information relating to the disease (apart from the fact that he/she comes from this\n",
    "population). \n",
    "\n",
    "Calculate the following probabilities:\n",
    "- **(a)** that the test result will be positive;\n",
    "- **(b)** that, given a positive result, the person is a sufferer;\n",
    "- **(c)** that, given a negative result, the person is a non-sufferer;\n",
    "- **(d)** that the person will be misclassified.\n",
    "\n",
    "Use following notation:\n",
    "\n",
    "T = test positive <br>\n",
    "NT = test negative<br>\n",
    "S = sufferer<br>\n",
    "NS = non-sufferer<br>\n",
    "M = misclassified<br>\n",
    "\n",
    "Solve it by two approaches:\n",
    "1. Arithmetically\n",
    "2. By simulation"
   ]
  },
  {
   "cell_type": "markdown",
   "metadata": {},
   "source": [
    "#1 Arithemetically \n",
    "#a that the test will be positive\n",
    "P(S) = 0.5/100 = 0.005\n",
    "P(NS) = 0.995\n",
    "P(T|S) = 0.95 \n",
    "P(T|NS) = 0.10\n",
    "P(NT|NS) = 0.90\n",
    "P(T) = P(S)P(T|S) + P(NS)P(T|NS)\n",
    "    = 0.0005* 0.95 + 0.995 * 0.10\n",
    "    = 0.10425\n",
    "#B\n",
    "P(S|T) = P(S)P(T|S) / P(T)\n",
    "    = 0.005 * 0.95 / 0.10425\n",
    "    = 0.04556\n",
    "#C\n",
    "P(NT) = 1 - P(T) = 0.8958\n",
    "P(NS|NT) = P(NS)P(NT|NS) / P(NT)\n",
    "    = 0.995 * 0.90 / 0.8958\n",
    "    = 0.9996\n",
    "    \n",
    "#D \n",
    "M = P(NS|T) + P(S|NT)\n",
    "= 0.10 + (P(S) * P(NT|S) / P(NT)) \n",
    "= 0.10 + (0.005 * (P(NT) * P(S)/ (P(NT)) / (1- 0.10425)  \n",
    "= 0.10 + (0.005 *(0.89575 *0.005) / (0.89575) / 0.89575)\n",
    "= 0.10 + (0.995 * 0.10 / 0.10425) \n",
    "= 0.100\n",
    "\n",
    "\n"
   ]
  },
  {
   "cell_type": "code",
   "execution_count": 34,
   "metadata": {},
   "outputs": [
    {
     "data": {
      "text/plain": [
       "-0.995"
      ]
     },
     "execution_count": 34,
     "metadata": {},
     "output_type": "execute_result"
    }
   ],
   "source": [
    "0.5/ 100 - 1\n"
   ]
  },
  {
   "cell_type": "code",
   "execution_count": 31,
   "metadata": {},
   "outputs": [
    {
     "name": "stdout",
     "output_type": "stream",
     "text": [
      "10.059999999999999\n",
      "89.94\n",
      "0.53\n",
      "99.47\n",
      "0.53\n",
      "0.0\n",
      "9.53\n",
      "89.94\n",
      "The probability of testing positive is 10.059999999999999%\n",
      "the probability of being a sufferer, given that the patient tested positive is 0.027922465208747523 %\n",
      "the probability of being a Non-sufferer, given that the patient tested negative is 99.47%\n",
      "the probability of being misclassified is 94.22953280318092%\n"
     ]
    }
   ],
   "source": [
    "#2 Simulation\n",
    "import numpy as np\n",
    "T = 0\n",
    "NT = 0\n",
    "S = 0\n",
    "NS = 0 \n",
    "T_S = 0\n",
    "T_NS = 0\n",
    "NT_S = 0\n",
    "NT_NS =0\n",
    "\n",
    "n_runs = 10000\n",
    "for x in range(n_runs):\n",
    "    if np.random.random() > 0.995:\n",
    "        S += 1\n",
    "        if np.random.random() < 0.95: \n",
    "            T += 1\n",
    "            T_S += 1 \n",
    "        else:\n",
    "            NT += 1\n",
    "            NT_S += 1\n",
    "    else:\n",
    "        NS += 1\n",
    "        if np.random.random() < 0.10:\n",
    "            T += 1\n",
    "            T_NS += 1 \n",
    "        else: \n",
    "            NT += 1 \n",
    "            NT_NS +=1\n",
    "\n",
    "P_T = ((T / n_runs) * 100)\n",
    "P_NT = ((NT / n_runs) * 100)\n",
    "P_S = ((S / n_runs) * 100)\n",
    "P_NS = ((NS / n_runs) * 100)\n",
    "P_T_S = ((T_S / n_runs) * 100)\n",
    "P_NT_S = ((NT_S / n_runs) * 100)\n",
    "P_T_NS = ((T_NS / n_runs) * 100)\n",
    "P_NT_NS = ((NT_NS / n_runs) * 100)\n",
    "\n",
    "print(P_T)\n",
    "print(P_NT)\n",
    "print(P_S)\n",
    "print(P_NS)\n",
    "print(P_T_S)\n",
    "print(P_NT_S)\n",
    "print(P_T_NS)\n",
    "print(P_NT_NS)\n",
    "\n",
    "#find A\n",
    "print(f\"The probability of testing positive is {P_T}%\")\n",
    "\n",
    "#find b\n",
    "#P(S)P(T|S) / P(T)\n",
    "P_S_T = (P_S * P_T_S) / (P_T)\n",
    "print(f\"the probability of being a sufferer, given that the patient tested positive is {P_S_T} %\") \n",
    "    \n",
    "#find c\n",
    "P_NS_NT = (P_NS * P_NT_NS) / P_NT\n",
    "print(f\"the probability of being a Non-sufferer, given that the patient tested negative is {P_NS_NT}%\")\n",
    "\n",
    "#find d\n",
    "P_NS_T = (P_NS * P_T_NS) / (P_T)\n",
    "P_S_NT = (P_S * P_NT_S) / (P_NT)\n",
    "P_M = P_NS_T + P_S_NT \n",
    "print(f\"the probability of being misclassified is {P_M}%\")\n"
   ]
  },
  {
   "cell_type": "code",
   "execution_count": null,
   "metadata": {},
   "outputs": [],
   "source": []
  }
 ],
 "metadata": {
  "kernelspec": {
   "display_name": "Python 3",
   "language": "python",
   "name": "python3"
  },
  "language_info": {
   "codemirror_mode": {
    "name": "ipython",
    "version": 3
   },
   "file_extension": ".py",
   "mimetype": "text/x-python",
   "name": "python",
   "nbconvert_exporter": "python",
   "pygments_lexer": "ipython3",
   "version": "3.8.8"
  },
  "toc": {
   "base_numbering": 1,
   "nav_menu": {},
   "number_sections": true,
   "sideBar": true,
   "skip_h1_title": false,
   "title_cell": "Table of Contents",
   "title_sidebar": "Contents",
   "toc_cell": false,
   "toc_position": {},
   "toc_section_display": true,
   "toc_window_display": false
  },
  "varInspector": {
   "cols": {
    "lenName": 16,
    "lenType": 16,
    "lenVar": 40
   },
   "kernels_config": {
    "python": {
     "delete_cmd_postfix": "",
     "delete_cmd_prefix": "del ",
     "library": "var_list.py",
     "varRefreshCmd": "print(var_dic_list())"
    },
    "r": {
     "delete_cmd_postfix": ") ",
     "delete_cmd_prefix": "rm(",
     "library": "var_list.r",
     "varRefreshCmd": "cat(var_dic_list()) "
    }
   },
   "types_to_exclude": [
    "module",
    "function",
    "builtin_function_or_method",
    "instance",
    "_Feature"
   ],
   "window_display": false
  }
 },
 "nbformat": 4,
 "nbformat_minor": 4
}
