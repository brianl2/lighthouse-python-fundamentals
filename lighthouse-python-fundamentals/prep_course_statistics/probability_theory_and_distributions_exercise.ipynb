{
 "cells": [
  {
   "cell_type": "code",
   "execution_count": 21,
   "metadata": {
    "ExecuteTime": {
     "end_time": "2020-02-05T17:54:42.062131Z",
     "start_time": "2020-02-05T17:54:41.626763Z"
    }
   },
   "outputs": [],
   "source": [
    "# import numpy\n",
    "import numpy as np\n",
    "\n",
    "# import matplotlib.pyplot\n",
    "import matplotlib.pyplot as plt\n",
    "\n",
    "# import Counter\n",
    "from collections import Counter\n",
    "\n",
    "# use style 'fivethirtyeight' (optional)\n",
    "plt.style.use('fivethirtyeight')"
   ]
  },
  {
   "cell_type": "markdown",
   "metadata": {
    "ExecuteTime": {
     "end_time": "2020-02-05T17:54:42.113199Z",
     "start_time": "2020-02-05T17:54:42.101587Z"
    }
   },
   "source": [
    "#### Create function `perform_bernoulli_trial` with parameters n and p\n",
    "\n",
    "PARAMS:\n",
    "- n (int) - number of trials\n",
    "- p (float) - probability of success\n",
    "\n",
    "RETURNS:\n",
    "- n_success (int) - number of successes\n",
    "\n"
   ]
  },
  {
   "cell_type": "code",
   "execution_count": 79,
   "metadata": {},
   "outputs": [],
   "source": [
    "def perform_bernoulli_trial(n , p):\n",
    "    \"\"\"Inputs number of trials and probability of sucess for each trial\"\"\"\n",
    "    n_success = 0\n",
    "    for trials in range(n):\n",
    "        if np.random.random() < p:\n",
    "            n_success += 1\n",
    "    return n_success\n",
    "\n"
   ]
  },
  {
   "cell_type": "code",
   "execution_count": null,
   "metadata": {},
   "outputs": [],
   "source": []
  },
  {
   "cell_type": "markdown",
   "metadata": {
    "ExecuteTime": {
     "end_time": "2020-02-05T17:54:42.610756Z",
     "start_time": "2020-02-05T17:54:42.602316Z"
    }
   },
   "source": [
    "#### Use function `perform_bernoulli_trial` with inputs n = 100, p = 0.5"
   ]
  },
  {
   "cell_type": "code",
   "execution_count": 96,
   "metadata": {},
   "outputs": [
    {
     "data": {
      "text/plain": [
       "45"
      ]
     },
     "execution_count": 96,
     "metadata": {},
     "output_type": "execute_result"
    }
   ],
   "source": [
    "perform_bernoulli_trial(100 ,0.5)"
   ]
  },
  {
   "cell_type": "code",
   "execution_count": null,
   "metadata": {},
   "outputs": [],
   "source": []
  },
  {
   "cell_type": "markdown",
   "metadata": {
    "ExecuteTime": {
     "end_time": "2020-02-05T17:54:43.020097Z",
     "start_time": "2020-02-05T17:54:42.962800Z"
    }
   },
   "source": [
    "#### Call function _perform_bernoulli_trial_ 1000-times with same parameters as before and store the result in `successes_list`"
   ]
  },
  {
   "cell_type": "code",
   "execution_count": 97,
   "metadata": {},
   "outputs": [
    {
     "name": "stdout",
     "output_type": "stream",
     "text": [
      "[49, 47, 42, 56, 49, 51, 48, 51, 51, 46, 52, 51, 48, 47, 47, 50, 54, 53, 55, 48, 56, 52, 56, 61, 51, 49, 57, 49, 43, 44, 54, 47, 42, 43, 64, 46, 51, 64, 54, 52, 45, 47, 49, 42, 48, 46, 47, 42, 55, 42, 53, 54, 40, 51, 48, 52, 44, 45, 52, 49, 42, 44, 51, 45, 51, 49, 52, 49, 48, 52, 61, 57, 47, 55, 47, 57, 46, 55, 51, 44, 54, 43, 41, 47, 49, 54, 53, 43, 44, 48, 50, 47, 45, 51, 55, 46, 51, 54, 46, 36, 38, 57, 51, 44, 50, 57, 54, 45, 56, 52, 54, 52, 48, 40, 41, 37, 45, 56, 55, 56, 49, 51, 43, 45, 45, 44, 40, 47, 54, 52, 48, 59, 48, 45, 44, 46, 51, 50, 49, 59, 44, 48, 50, 53, 51, 56, 59, 42, 50, 50, 60, 60, 56, 51, 50, 50, 49, 49, 46, 46, 47, 51, 49, 49, 51, 41, 51, 58, 49, 49, 59, 64, 52, 51, 51, 49, 48, 41, 43, 54, 52, 54, 44, 48, 51, 43, 47, 56, 52, 45, 55, 48, 44, 53, 48, 60, 46, 41, 45, 52, 47, 47, 57, 55, 60, 45, 54, 51, 40, 59, 47, 49, 54, 40, 50, 43, 50, 43, 43, 56, 55, 50, 55, 56, 44, 48, 47, 49, 41, 37, 46, 48, 54, 46, 53, 45, 54, 52, 56, 49, 58, 58, 47, 56, 51, 51, 47, 41, 59, 51, 51, 61, 54, 42, 50, 49, 45, 51, 45, 48, 57, 52, 48, 51, 53, 47, 45, 48, 53, 55, 57, 54, 51, 51, 53, 47, 54, 56, 41, 47, 42, 48, 56, 57, 46, 55, 52, 55, 48, 44, 50, 42, 37, 49, 46, 54, 53, 49, 54, 48, 57, 53, 48, 42, 52, 49, 47, 50, 47, 46, 57, 55, 41, 42, 53, 56, 56, 48, 50, 44, 37, 57, 42, 45, 55, 50, 60, 47, 52, 43, 44, 57, 56, 53, 49, 47, 55, 51, 43, 45, 48, 53, 50, 44, 46, 48, 51, 49, 45, 45, 50, 52, 50, 49, 53, 52, 48, 49, 51, 55, 56, 52, 53, 47, 45, 51, 46, 58, 48, 50, 42, 48, 49, 54, 46, 49, 44, 53, 51, 46, 50, 48, 53, 56, 51, 48, 48, 52, 48, 44, 53, 55, 46, 52, 47, 59, 50, 49, 53, 48, 54, 45, 40, 49, 56, 54, 50, 47, 43, 45, 53, 52, 55, 62, 50, 50, 41, 51, 50, 45, 59, 47, 55, 45, 42, 54, 57, 41, 51, 50, 63, 43, 47, 45, 48, 50, 48, 49, 43, 54, 59, 54, 47, 44, 54, 45, 43, 46, 53, 46, 55, 56, 54, 53, 49, 54, 53, 50, 59, 49, 54, 53, 48, 56, 51, 52, 50, 53, 49, 54, 53, 41, 54, 52, 43, 62, 45, 48, 50, 50, 55, 58, 54, 48, 41, 53, 43, 54, 60, 41, 43, 56, 58, 48, 52, 43, 59, 57, 47, 49, 45, 51, 53, 49, 48, 54, 54, 47, 53, 44, 59, 46, 47, 49, 45, 53, 50, 57, 42, 43, 45, 58, 47, 57, 47, 51, 52, 50, 42, 55, 41, 52, 55, 52, 50, 48, 52, 39, 48, 44, 46, 45, 46, 50, 49, 56, 49, 45, 50, 60, 52, 45, 49, 51, 39, 48, 52, 50, 50, 46, 53, 54, 57, 45, 46, 52, 55, 49, 49, 37, 59, 54, 47, 54, 55, 60, 42, 44, 44, 53, 52, 58, 62, 51, 62, 54, 39, 50, 51, 46, 51, 52, 52, 42, 43, 56, 46, 45, 55, 43, 48, 45, 50, 53, 50, 54, 51, 50, 54, 47, 46, 50, 55, 51, 45, 47, 47, 50, 56, 42, 42, 49, 48, 55, 52, 45, 46, 44, 39, 55, 54, 36, 52, 46, 51, 56, 53, 49, 55, 57, 56, 44, 50, 51, 50, 52, 47, 51, 57, 56, 42, 57, 52, 58, 55, 45, 46, 50, 54, 52, 45, 46, 52, 47, 48, 43, 47, 47, 53, 48, 51, 47, 49, 53, 47, 46, 57, 51, 52, 56, 50, 48, 49, 46, 50, 42, 49, 49, 51, 49, 51, 55, 50, 50, 50, 50, 47, 61, 50, 50, 46, 45, 49, 52, 52, 40, 53, 56, 54, 45, 48, 60, 53, 49, 62, 45, 48, 49, 47, 50, 48, 54, 51, 50, 55, 52, 57, 51, 49, 55, 55, 39, 48, 46, 50, 52, 51, 51, 56, 61, 46, 49, 53, 53, 40, 53, 51, 52, 44, 47, 43, 54, 61, 46, 52, 36, 63, 40, 42, 46, 51, 57, 45, 47, 45, 61, 52, 45, 45, 51, 58, 49, 48, 50, 53, 49, 45, 52, 53, 42, 38, 48, 56, 45, 49, 46, 49, 48, 61, 46, 52, 47, 48, 48, 58, 46, 50, 53, 58, 46, 54, 47, 48, 52, 49, 39, 51, 48, 43, 54, 50, 56, 51, 52, 48, 46, 47, 48, 37, 51, 51, 52, 50, 50, 47, 47, 53, 47, 50, 53, 54, 50, 55, 54, 47, 55, 48, 53, 49, 53, 50, 47, 50, 52, 51, 56, 45, 58, 42, 55, 48, 55, 49, 45, 50, 56, 54, 54, 41, 53, 43, 39, 52, 51, 48, 38, 50, 54, 50, 46, 52, 54, 51, 48, 41, 53, 43, 52, 57, 46, 52, 47, 44, 60, 55, 58, 50, 53, 55, 55, 64, 54, 45, 48, 49, 47, 55, 50, 47, 49, 47, 55, 49, 46, 45, 42, 41, 58, 46, 55, 49, 53, 49, 54, 42, 49, 43, 51, 46, 58, 46, 46, 51, 50, 55, 50, 50, 48, 51, 50, 45, 51, 50, 47, 48, 47, 50, 51, 48, 52, 41, 50, 54, 48, 49, 57, 48, 47, 50, 50, 52, 50, 50, 59, 50, 40, 55, 64, 59, 48, 45, 45, 47, 56, 42, 50, 53, 54, 47, 47, 47, 50, 52, 50, 47, 59, 56, 58, 57, 51, 50, 47, 50, 59, 53, 53, 50, 52, 53, 52, 50, 41, 47, 45, 42, 54, 44, 49, 47, 53]\n"
     ]
    }
   ],
   "source": [
    "success_list = []\n",
    "for x in range(1000):\n",
    "    success_list.append(perform_bernoulli_trial(100, 0.5))\n",
    "print(success_list)"
   ]
  },
  {
   "cell_type": "code",
   "execution_count": null,
   "metadata": {},
   "outputs": [],
   "source": []
  },
  {
   "cell_type": "markdown",
   "metadata": {
    "ExecuteTime": {
     "end_time": "2020-02-05T17:54:43.296477Z",
     "start_time": "2020-02-05T17:54:43.289959Z"
    }
   },
   "source": [
    "#### Count occurence of each number from `successes_list` using Counter and store the result in `count_occurence`\n",
    "\n",
    "You can find for more info about Counter [**here**](https://docs.python.org/2/library/collections.html#collections.Counter)."
   ]
  },
  {
   "cell_type": "code",
   "execution_count": 104,
   "metadata": {},
   "outputs": [],
   "source": [
    "count_occurence = Counter(success_list)\n"
   ]
  },
  {
   "cell_type": "code",
   "execution_count": 89,
   "metadata": {},
   "outputs": [
    {
     "name": "stdout",
     "output_type": "stream",
     "text": [
      "Counter({51: 88, 49: 83, 48: 82, 53: 78, 50: 75, 54: 64, 52: 63, 47: 60, 46: 56, 55: 55, 45: 48, 44: 39, 43: 37, 57: 34, 56: 29, 58: 21, 42: 20, 59: 20, 41: 13, 39: 7, 60: 7, 63: 4, 61: 4, 64: 3, 40: 3, 36: 3, 35: 2, 62: 2})\n"
     ]
    }
   ],
   "source": []
  },
  {
   "cell_type": "markdown",
   "metadata": {
    "ExecuteTime": {
     "end_time": "2020-02-05T17:54:43.571225Z",
     "start_time": "2020-02-05T17:54:43.568147Z"
    }
   },
   "source": [
    "#### Count the probability for each number from `count_occurence` and store the result in `probas`\n"
   ]
  },
  {
   "cell_type": "code",
   "execution_count": 116,
   "metadata": {},
   "outputs": [],
   "source": [
    "probas = []\n",
    "for oc in count_occurence.values():\n",
    "    probas.append(oc / 1000) "
   ]
  },
  {
   "cell_type": "code",
   "execution_count": 117,
   "metadata": {},
   "outputs": [
    {
     "data": {
      "text/plain": [
       "[0.072,\n",
       " 0.074,\n",
       " 0.03,\n",
       " 0.039,\n",
       " 0.076,\n",
       " 0.074,\n",
       " 0.053,\n",
       " 0.067,\n",
       " 0.093,\n",
       " 0.061,\n",
       " 0.058,\n",
       " 0.048,\n",
       " 0.008,\n",
       " 0.027,\n",
       " 0.029,\n",
       " 0.028,\n",
       " 0.005,\n",
       " 0.058,\n",
       " 0.01,\n",
       " 0.02,\n",
       " 0.003,\n",
       " 0.003,\n",
       " 0.006,\n",
       " 0.017,\n",
       " 0.01,\n",
       " 0.017,\n",
       " 0.005,\n",
       " 0.002,\n",
       " 0.007]"
      ]
     },
     "execution_count": 117,
     "metadata": {},
     "output_type": "execute_result"
    }
   ],
   "source": [
    "probas"
   ]
  },
  {
   "cell_type": "markdown",
   "metadata": {},
   "source": [
    "Below you have some information about how to do plots in Python. We will be covering all of this during the bootcamp. But you can find these basics here so we can visualize the distributions."
   ]
  },
  {
   "cell_type": "code",
   "execution_count": 118,
   "metadata": {
    "ExecuteTime": {
     "end_time": "2020-02-05T17:54:44.056628Z",
     "start_time": "2020-02-05T17:54:43.850076Z"
    }
   },
   "outputs": [
    {
     "data": {
      "image/png": "[encoded data removed]",
      "text/plain": [
       "<Figure size 432x288 with 1 Axes>"
      ]
     },
     "metadata": {},
     "output_type": "display_data"
    }
   ],
   "source": [
    "# plot distribution (PMF) of 'succes_list'\n",
    "plt.scatter(x=count_occurence.keys() , y = probas)\n",
    "plt.xlabel('number of successes out of 100')\n",
    "plt.ylabel('probability')\n",
    "# Show the plot\n",
    "plt.show()"
   ]
  },
  {
   "cell_type": "markdown",
   "metadata": {
    "ExecuteTime": {
     "end_time": "2020-02-05T17:54:44.112264Z",
     "start_time": "2020-02-05T17:54:44.096570Z"
    }
   },
   "source": [
    "#### Generate 100000 numbers from uniform distribution with parameters a = 1, b = 6\n"
   ]
  },
  {
   "cell_type": "code",
   "execution_count": 121,
   "metadata": {},
   "outputs": [],
   "source": [
    "uniform = []\n",
    "for x in range(100000):\n",
    "    uniform.append(np.random.randint(1,7))\n"
   ]
  },
  {
   "cell_type": "code",
   "execution_count": 132,
   "metadata": {},
   "outputs": [],
   "source": [
    "uniform = []\n",
    "for x in range(100000):\n",
    "    uniform.append(np.random.uniform(1,6))\n",
    "    \n"
   ]
  },
  {
   "cell_type": "code",
   "execution_count": 133,
   "metadata": {
    "ExecuteTime": {
     "end_time": "2020-02-05T17:54:44.515039Z",
     "start_time": "2020-02-05T17:54:44.330746Z"
    },
    "tags": []
   },
   "outputs": [
    {
     "data": {
      "image/png": "[encoded data removed]",
      "text/plain": [
       "<Figure size 432x288 with 1 Axes>"
      ]
     },
     "metadata": {},
     "output_type": "display_data"
    }
   ],
   "source": [
    "# plot histogram of uniform distribution with paramsdensity=True, bins=6\n",
    "plt.hist(uniform, density=True, bins=6)\n",
    "plt.ylabel('density')\n",
    "plt.xlabel('value')\n",
    "plt.show()"
   ]
  },
  {
   "cell_type": "markdown",
   "metadata": {
    "ExecuteTime": {
     "end_time": "2020-02-05T17:54:44.583762Z",
     "start_time": "2020-02-05T17:54:44.555162Z"
    }
   },
   "source": [
    "#### Check the mean of uniform data (using NumPy)"
   ]
  },
  {
   "cell_type": "code",
   "execution_count": 134,
   "metadata": {},
   "outputs": [
    {
     "data": {
      "text/plain": [
       "3.4989691147305124"
      ]
     },
     "execution_count": 134,
     "metadata": {},
     "output_type": "execute_result"
    }
   ],
   "source": [
    "np.mean(uniform)"
   ]
  },
  {
   "cell_type": "code",
   "execution_count": null,
   "metadata": {},
   "outputs": [],
   "source": []
  },
  {
   "cell_type": "markdown",
   "metadata": {
    "ExecuteTime": {
     "end_time": "2020-02-05T17:54:44.758510Z",
     "start_time": "2020-02-05T17:54:44.752087Z"
    }
   },
   "source": [
    "#### Generate 100000 numbers from exponential distribution with parameter beta = 0.5\n",
    "\n",
    "The exponential distribution is sometimes parametrized in terms of the scale parameter **β = 1/λ**. We were reading about the **λ** in the previous reading."
   ]
  },
  {
   "cell_type": "code",
   "execution_count": 136,
   "metadata": {},
   "outputs": [],
   "source": [
    "exponential = np.random.exponential(0.5, 100000)"
   ]
  },
  {
   "cell_type": "code",
   "execution_count": null,
   "metadata": {},
   "outputs": [],
   "source": []
  },
  {
   "cell_type": "markdown",
   "metadata": {
    "ExecuteTime": {
     "end_time": "2020-02-05T17:54:45.134091Z",
     "start_time": "2020-02-05T17:54:44.956351Z"
    }
   },
   "source": [
    "#### Plot histogram of exponential distribution with params `density=True`, `bins=100`\n"
   ]
  },
  {
   "cell_type": "code",
   "execution_count": 137,
   "metadata": {},
   "outputs": [
    {
     "data": {
      "image/png": "[encoded data removed]",
      "text/plain": [
       "<Figure size 432x288 with 1 Axes>"
      ]
     },
     "metadata": {},
     "output_type": "display_data"
    }
   ],
   "source": [
    "plt.hist(exponential, density=True, bins=100)\n",
    "plt.ylabel('density')\n",
    "plt.xlabel('value')\n",
    "plt.show()"
   ]
  },
  {
   "cell_type": "code",
   "execution_count": null,
   "metadata": {},
   "outputs": [],
   "source": []
  },
  {
   "cell_type": "markdown",
   "metadata": {
    "ExecuteTime": {
     "end_time": "2020-02-05T17:54:45.187080Z",
     "start_time": "2020-02-05T17:54:45.171406Z"
    }
   },
   "source": [
    "#### Check the mean of exponential data"
   ]
  },
  {
   "cell_type": "code",
   "execution_count": 138,
   "metadata": {},
   "outputs": [
    {
     "data": {
      "text/plain": [
       "0.4991797213263059"
      ]
     },
     "execution_count": 138,
     "metadata": {},
     "output_type": "execute_result"
    }
   ],
   "source": [
    "np.mean(exponential)"
   ]
  },
  {
   "cell_type": "code",
   "execution_count": null,
   "metadata": {},
   "outputs": [],
   "source": []
  }
 ],
 "metadata": {
  "kernelspec": {
   "display_name": "Python 3",
   "language": "python",
   "name": "python3"
  },
  "language_info": {
   "codemirror_mode": {
    "name": "ipython",
    "version": 3
   },
   "file_extension": ".py",
   "mimetype": "text/x-python",
   "name": "python",
   "nbconvert_exporter": "python",
   "pygments_lexer": "ipython3",
   "version": "3.8.8"
  },
  "toc": {
   "base_numbering": 1,
   "nav_menu": {},
   "number_sections": true,
   "sideBar": true,
   "skip_h1_title": false,
   "title_cell": "Table of Contents",
   "title_sidebar": "Contents",
   "toc_cell": false,
   "toc_position": {},
   "toc_section_display": true,
   "toc_window_display": false
  },
  "varInspector": {
   "cols": {
    "lenName": 16,
    "lenType": 16,
    "lenVar": 40
   },
   "kernels_config": {
    "python": {
     "delete_cmd_postfix": "",
     "delete_cmd_prefix": "del ",
     "library": "var_list.py",
     "varRefreshCmd": "print(var_dic_list())"
    },
    "r": {
     "delete_cmd_postfix": ") ",
     "delete_cmd_prefix": "rm(",
     "library": "var_list.r",
     "varRefreshCmd": "cat(var_dic_list()) "
    }
   },
   "types_to_exclude": [
    "module",
    "function",
    "builtin_function_or_method",
    "instance",
    "_Feature"
   ],
   "window_display": false
  }
 },
 "nbformat": 4,
 "nbformat_minor": 4
}
