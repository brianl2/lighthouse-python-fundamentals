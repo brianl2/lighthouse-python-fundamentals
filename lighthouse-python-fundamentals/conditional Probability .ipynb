{
 "cells": [
  {
   "cell_type": "markdown",
   "id": "4b38cb29-d31b-4c86-8abb-ed5658174f29",
   "metadata": {},
   "source": [
    "Example:Soccer Game \n",
    "\n",
    "You are off to soccer and want to be the goalkeeper but that depends on who will be coaching today:\n",
    "\n",
    "with coach Sam, the probability of being the goalkeeper is 0.5\n",
    "with coach Alex, the probability of being the goalkeeper is 0.3\n",
    "\n",
    "Sam coaches more often, 6/10 games or 0.6 \n",
    "prob that you will be goal keeper?\n",
    "\n",
    "P(G|S) = 0.5 - Probability of being goalie, given sam\n",
    "P(G|A) = 0.3 - probability of being goalie, given Alex\n",
    "P(S) = 0.6 -  probability of Alex coaching"
   ]
  },
  {
   "cell_type": "code",
   "execution_count": 1,
   "id": "71c9dcdb-f47e-43c3-83cd-50ba003d3c85",
   "metadata": {},
   "outputs": [],
   "source": [
    "#import numpy \n",
    "import numpy as np"
   ]
  },
  {
   "cell_type": "code",
   "execution_count": 6,
   "id": "ce3d848b-4608-4311-9066-ffb832f2663b",
   "metadata": {},
   "outputs": [],
   "source": [
    "#How many times we run simulation \n",
    "n_runs = 100000\n",
    "\n",
    "#initialize variables\n",
    "SAM = 0\n",
    "SAM_YES = 0\n",
    "SAM_NO = 0 \n",
    "ALEX =0\n",
    "ALEX_YES = 0\n",
    "ALEX_NO = 0\n",
    "YES = 0\n",
    "NO = 0"
   ]
  },
  {
   "cell_type": "code",
   "execution_count": 8,
   "id": "10849462-cf15-488a-bbc0-81d8f0a8e429",
   "metadata": {},
   "outputs": [],
   "source": [
    "#loop that will simulate the process\n",
    "\n",
    "for x in range(n_runs):\n",
    "    # Sam (probability of sam being the coach)\n",
    "    if np.random.random() < 0.6:\n",
    "        SAM +=1\n",
    "        # YES to Goal keep\n",
    "        if np.random.random() < 0.5:\n",
    "            SAM_YES += 1 \n",
    "            YES += 1 \n",
    "        #NO to goal keep\n",
    "        else: \n",
    "            SAM_NO += 1 \n",
    "            NO += 1 \n",
    "    # Alex (prob of alex being coach)\n",
    "    else: \n",
    "        ALEX += 1\n",
    "        #Yes to goalie\n",
    "        if np.random.random() < 0.3:\n",
    "            ALEX_YES += 1 \n",
    "            YES += 1 \n",
    "        else:\n",
    "            ALEX_NO += 1\n",
    "            NO += 1 "
   ]
  },
  {
   "cell_type": "markdown",
   "id": "f26935e2-e2b9-4ab7-88ce-f45bd483dedd",
   "metadata": {},
   "source": [
    "In this simulation you are the goalkeeper and sam is the coach, for every time, Alex or Sam says yes, there is a counter for each, as well as Yes's in general. \n",
    "Create probabilities for all conditions: "
   ]
  },
  {
   "cell_type": "code",
   "execution_count": 9,
   "id": "e3990d2e-1d32-4eee-af57-ad0c8f9f50da",
   "metadata": {},
   "outputs": [
    {
     "name": "stdout",
     "output_type": "stream",
     "text": [
      "Sam is the coach: 60.236000000000004%\n",
      "Sam is the coach and you are the goalkeeper: 30.186%\n",
      "Sam is the coach and you are not the goalkeeper: 30.049999999999997%\n",
      "Alex is the coach: 39.763999999999996%\n",
      "Alex is the coach and you are the goalkeeper: 11.848%\n",
      "Alex is the coach and you are not the goalkeeper: 27.916%\n",
      "You are the goalkeeper: 42.034%\n",
      "You are not the goalkeeper: 57.965999999999994\n"
     ]
    }
   ],
   "source": [
    "P_SAM = SAM / n_runs * 100\n",
    "P_SAM_YES = SAM_YES / n_runs * 100\n",
    "P_SAM_NO = SAM_NO / n_runs * 100\n",
    "P_ALEX = ALEX / n_runs * 100\n",
    "P_ALEX_YES = ALEX_YES / n_runs * 100\n",
    "P_ALEX_NO = ALEX_NO / n_runs * 100\n",
    "P_YES = YES / n_runs * 100\n",
    "P_NO = NO / n_runs * 100\n",
    "\n",
    "#print the probabilities\n",
    "print(f'Sam is the coach: {P_SAM}%')\n",
    "print(f'Sam is the coach and you are the goalkeeper: {P_SAM_YES}%')\n",
    "print(f'Sam is the coach and you are not the goalkeeper: {P_SAM_NO}%')\n",
    "print(f'Alex is the coach: {P_ALEX}%')\n",
    "print(f'Alex is the coach and you are the goalkeeper: {P_ALEX_YES}%')\n",
    "print(f'Alex is the coach and you are not the goalkeeper: {P_ALEX_NO}%')\n",
    "print(f'You are the goalkeeper: {P_YES}%')\n",
    "print(f'You are not the goalkeeper: {P_NO}')"
   ]
  },
  {
   "cell_type": "code",
   "execution_count": 10,
   "id": "7fadc432-eb79-4727-9e7f-5e345b079e39",
   "metadata": {},
   "outputs": [
    {
     "name": "stdout",
     "output_type": "stream",
     "text": [
      "0.7181329400009516\n"
     ]
    }
   ],
   "source": [
    "#P(SAM | goalkeeper)\n",
    "P_SAM_GOAL = P_SAM_YES / P_YES \n",
    "print(P_SAM_GOAL)"
   ]
  },
  {
   "cell_type": "markdown",
   "id": "1719d88f-da2c-4431-b7ca-00701da1b836",
   "metadata": {},
   "source": [
    "Probability of you being the goalkeeper when sam is the coach, divided by the probability that you are the goalkeeper. \n",
    "    - Probability is about 72% \n",
    "    in about 72% of the games you're in as goal keeper, you coach is sam. "
   ]
  }
 ],
 "metadata": {
  "kernelspec": {
   "display_name": "Python 3",
   "language": "python",
   "name": "python3"
  },
  "language_info": {
   "codemirror_mode": {
    "name": "ipython",
    "version": 3
   },
   "file_extension": ".py",
   "mimetype": "text/x-python",
   "name": "python",
   "nbconvert_exporter": "python",
   "pygments_lexer": "ipython3",
   "version": "3.8.8"
  }
 },
 "nbformat": 4,
 "nbformat_minor": 5
}
